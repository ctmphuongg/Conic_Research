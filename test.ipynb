{
 "cells": [
  {
   "cell_type": "code",
   "execution_count": 17,
   "id": "17941eba-0e8c-460e-aebf-b80f355d7bec",
   "metadata": {},
   "outputs": [],
   "source": [
    "from sage.all import *"
   ]
  },
  {
   "cell_type": "code",
   "execution_count": 18,
   "id": "5442ccf3-f026-452d-bbdd-e37dc3021848",
   "metadata": {},
   "outputs": [],
   "source": [
    "# sage.plot(x^2, (x,0,5))"
   ]
  },
  {
   "cell_type": "code",
   "execution_count": 23,
   "id": "ba654dab-b554-4e75-8be2-5e125d611f15",
   "metadata": {},
   "outputs": [
    {
     "name": "stdout",
     "output_type": "stream",
     "text": [
      "Graphics object consisting of 1 graphics primitive\n"
     ]
    }
   ],
   "source": [
    "# Define variables\n",
    "var('x y')\n",
    "\n",
    "\n",
    "# Create the plot\n",
    "plot = implicit_plot(x**Integer(2) + Integer(3)*y**Integer(2) == Integer(4), (x,-Integer(3),Integer(3)), (y,-Integer(3),Integer(3)), plot_points=200)\n",
    "\n",
    "# Display the plot\n",
    "show(plot)"
   ]
  },
  {
   "cell_type": "code",
   "execution_count": 24,
   "id": "b13d0237-1130-4179-81e6-7bba57b57c4f",
   "metadata": {},
   "outputs": [
    {
     "name": "stdout",
     "output_type": "stream",
     "text": [
      "Graphics object consisting of 1 graphics primitive\n"
     ]
    }
   ],
   "source": [
    "show(plot)"
   ]
  },
  {
   "cell_type": "code",
   "execution_count": null,
   "id": "9db3caa7-b661-4325-976e-322e4a6baeba",
   "metadata": {},
   "outputs": [],
   "source": []
  },
  {
   "cell_type": "code",
   "execution_count": 27,
   "id": "b4c12e6f-4f8d-4a48-baef-fa0ae4f3109a",
   "metadata": {},
   "outputs": [
    {
     "name": "stdout",
     "output_type": "stream",
     "text": [
      "Graphics object consisting of 1 graphics primitive\n"
     ]
    }
   ],
   "source": [
    "import sage\n",
    "\n",
    "# Define the variables\n",
    "var('x y')\n",
    "\n",
    "# Define the equation\n",
    "eq = x**2 + 3*y**2 == 4\n",
    "\n",
    "# Create the implicit plot\n",
    "p = implicit_plot(eq, (x, -4, 4), (y, -4, 4), axes=True)\n",
    "\n",
    "# Set the aspect ratio to 'equal' for a true circular appearance\n",
    "p.set_aspect_ratio(1)\n",
    "\n",
    "# Add labels and title\n",
    "# p.set_xlabel('x')\n",
    "# p.set_ylabel('y')\n",
    "# p.set_title('Plot of x^2 + 3y^2 = 4')\n",
    "show(p)"
   ]
  },
  {
   "cell_type": "code",
   "execution_count": null,
   "id": "8c845faa-fde1-4bcc-a4e8-989c02a6a961",
   "metadata": {},
   "outputs": [],
   "source": []
  }
 ],
 "metadata": {
  "kernelspec": {
   "display_name": "Python 3 (ipykernel)",
   "language": "python",
   "name": "python3"
  },
  "language_info": {
   "codemirror_mode": {
    "name": "ipython",
    "version": 3
   },
   "file_extension": ".py",
   "mimetype": "text/x-python",
   "name": "python",
   "nbconvert_exporter": "python",
   "pygments_lexer": "ipython3",
   "version": "3.12.4"
  }
 },
 "nbformat": 4,
 "nbformat_minor": 5
}
